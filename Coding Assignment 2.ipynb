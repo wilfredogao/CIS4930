{
 "cells": [
  {
   "cell_type": "code",
   "execution_count": 35,
   "id": "79cc84d0",
   "metadata": {},
   "outputs": [],
   "source": [
    "import pandas as pd\n"
   ]
  },
  {
   "cell_type": "markdown",
   "id": "6cb4586a",
   "metadata": {},
   "source": [
    "# 1. Exploratory Data Analysis"
   ]
  },
  {
   "cell_type": "code",
   "execution_count": 46,
   "id": "030b1dbc",
   "metadata": {
    "scrolled": true
   },
   "outputs": [
    {
     "name": "stdout",
     "output_type": "stream",
     "text": [
      "# of rows from trainCSV 820000\n",
      "# of rows from testCSV 359\n"
     ]
    }
   ],
   "source": [
    "#read in csv file data\n",
    "#read train rows from \n",
    "trainCSV = pd.read_csv('train.csv',nrows=820000)\n",
    "testCSV = pd.read_csv('test.csv')\n",
    "\n",
    "rows = len(trainCSV)\n",
    "rows2 = len(testCSV)\n",
    "\n",
    "#check proper number of rows from the csv files\n",
    "print(\"# of rows from trainCSV \" + str(rows))\n",
    "print(\"# of rows from testCSV \" + str(rows2))"
   ]
  },
  {
   "cell_type": "code",
   "execution_count": 48,
   "id": "ddaa133a",
   "metadata": {
    "scrolled": true
   },
   "outputs": [
    {
     "name": "stdout",
     "output_type": "stream",
     "text": [
      "# of negatives from trainCSV 800000\n",
      "# of positives from trainCSV 20000\n",
      "# of neither positive or negative from trainCSV 0\n"
     ]
    }
   ],
   "source": [
    "#check associated # of sentiment values from train csv\n",
    "numNeg = ((trainCSV['Sentiment'] == 0).sum())\n",
    "print(\"# of negatives from trainCSV \" + str(numNeg))\n",
    "\n",
    "numPos = ((trainCSV['Sentiment'] == 1).sum())\n",
    "print(\"# of positives from trainCSV \" + str(numPos))\n",
    "\n",
    "#check if there are any improper sentiment values in traincsv\n",
    "numNA = ((trainCSV['Sentiment'] >= 2).sum())\n",
    "print(\"# of neither positive or negative from trainCSV \" + str(numNA))"
   ]
  },
  {
   "cell_type": "code",
   "execution_count": 51,
   "id": "cef705fd",
   "metadata": {
    "scrolled": false
   },
   "outputs": [
    {
     "name": "stdout",
     "output_type": "stream",
     "text": [
      "Null values in trainCSV\n",
      "Index        0\n",
      "Sentiment    0\n",
      "Text         0\n",
      "dtype: int64\n",
      "Null values in testCSV\n",
      "Index        0\n",
      "Sentiment    0\n",
      "Text         0\n",
      "dtype: int64\n"
     ]
    }
   ],
   "source": [
    "#check if there are null values in the csv files\n",
    "print(\"Null values in trainCSV\")\n",
    "print(trainCSV.isnull().sum())\n",
    "\n",
    "print(\"Null values in testCSV\")\n",
    "print(testCSV.isnull().sum())"
   ]
  },
  {
   "cell_type": "markdown",
   "id": "52edf0e7",
   "metadata": {},
   "source": [
    "# 2: Text Preprocessing."
   ]
  },
  {
   "cell_type": "code",
   "execution_count": 60,
   "id": "3e5ad23d",
   "metadata": {},
   "outputs": [
    {
     "name": "stdout",
     "output_type": "stream",
     "text": [
      "         Index  Sentiment                                               Text\n",
      "0            0          0  @switchfoot http://twitpic.com/2y1zl - awww, t...\n",
      "1            1          0  is upset that he can't update his facebook by ...\n",
      "2            2          0  @kenichan i dived many times for the ball. man...\n",
      "3            3          0    my whole body feels itchy and like its on fire \n",
      "4            4          0  @nationwideclass no, it's not behaving at all....\n",
      "...        ...        ...                                                ...\n",
      "819995  819995          1  we just met some awesome people at t.g.i fridays \n",
      "819996  819996          1  oh my goodness . my feet are the most sensitiv...\n",
      "819997  819997          1                                  @hey_angy hahaha \n",
      "819998  819998          1  @lamartian30 pfft school is koo. i'm ranked 2n...\n",
      "819999  819999          1  stuffed. working out, shower,movie night, thn ...\n",
      "\n",
      "[820000 rows x 3 columns]\n"
     ]
    }
   ],
   "source": [
    "#change all text to lowercase\n",
    "trainCSV['Text'] = trainCSV['Text'].str.lower();\n",
    "testCSV['Text'] = trainCSV['Text'].str.lower();\n",
    "\n",
    "#check to make sure operation worked and changed to lowercase\n",
    "print(trainCSV)"
   ]
  },
  {
   "cell_type": "code",
   "execution_count": 61,
   "id": "3098d8b2",
   "metadata": {},
   "outputs": [
    {
     "name": "stdout",
     "output_type": "stream",
     "text": [
      "     Index  Sentiment                                               Text\n",
      "0        0          1  @switchfoot http://twitpic.com/2y1zl - awww, t...\n",
      "1        1          1  is upset that he can't update his facebook by ...\n",
      "2        2          1  @kenichan i dived many times for the ball. man...\n",
      "3        3          1    my whole body feels itchy and like its on fire \n",
      "4        4          1  @nationwideclass no, it's not behaving at all....\n",
      "..     ...        ...                                                ...\n",
      "354    492          1  stupid movies we watched... mirrors ugggggh......\n",
      "355    494          0      http://twitpic.com/2y2yi - i love you, buck. \n",
      "356    495          1                 last one!!! but still not done!!! \n",
      "357    496          0                                      homework.... \n",
      "358    497          0  i don't understand why things get taken away. ...\n",
      "\n",
      "[359 rows x 3 columns]\n"
     ]
    }
   ],
   "source": [
    "#check to make sure operation worked and changed to lowercase\n",
    "print(testCSV)"
   ]
  },
  {
   "cell_type": "code",
   "execution_count": 65,
   "id": "137b927a",
   "metadata": {},
   "outputs": [
    {
     "name": "stderr",
     "output_type": "stream",
     "text": [
      "C:\\Users\\Wil\\AppData\\Local\\Temp\\ipykernel_15340\\576637622.py:2: FutureWarning: The default value of regex will change from True to False in a future version.\n",
      "  trainCSV['Text'] = trainCSV['Text'].str.replace('[^a-zA-Z0-9 \\n\\.]', '')\n",
      "C:\\Users\\Wil\\AppData\\Local\\Temp\\ipykernel_15340\\576637622.py:3: FutureWarning: The default value of regex will change from True to False in a future version.\n",
      "  testCSV['Text'] = testCSV['Text'].str.replace('[^a-zA-Z0-9 \\n\\.]', '')\n",
      "C:\\Users\\Wil\\AppData\\Local\\Temp\\ipykernel_15340\\576637622.py:6: FutureWarning: The default value of regex will change from True to False in a future version.\n",
      "  trainCSV['Text'] = trainCSV['Text'].str.replace('\\d', '')\n"
     ]
    },
    {
     "name": "stdout",
     "output_type": "stream",
     "text": [
      "         Index  Sentiment                                               Text\n",
      "0            0          0  switchfoot httptwitpic.comyzl  awww thats a bu...\n",
      "1            1          0  is upset that he cant update his facebook by t...\n",
      "2            2          0  kenichan i dived many times for the ball. mana...\n",
      "3            3          0    my whole body feels itchy and like its on fire \n",
      "4            4          0  nationwideclass no its not behaving at all. im...\n",
      "...        ...        ...                                                ...\n",
      "819995  819995          1  we just met some awesome people at t.g.i fridays \n",
      "819996  819996          1  oh my goodness . my feet are the most sensitiv...\n",
      "819997  819997          1                                    heyangy hahaha \n",
      "819998  819998          1  lamartian pfft school is koo. im ranked nd in ...\n",
      "819999  819999          1  stuffed. working out showermovie night thn sle...\n",
      "\n",
      "[820000 rows x 3 columns]\n"
     ]
    },
    {
     "name": "stderr",
     "output_type": "stream",
     "text": [
      "C:\\Users\\Wil\\AppData\\Local\\Temp\\ipykernel_15340\\576637622.py:7: FutureWarning: The default value of regex will change from True to False in a future version.\n",
      "  testCSV['Text'] = testCSV['Text'].str.replace('\\d', '')\n"
     ]
    }
   ],
   "source": [
    "#remove special characters\n",
    "trainCSV['Text'] = trainCSV['Text'].str.replace('[^a-zA-Z0-9 \\n\\.]', '')\n",
    "testCSV['Text'] = testCSV['Text'].str.replace('[^a-zA-Z0-9 \\n\\.]', '')\n",
    "\n",
    "#remove numerical numbers\n",
    "trainCSV['Text'] = trainCSV['Text'].str.replace('\\d', '')\n",
    "testCSV['Text'] = testCSV['Text'].str.replace('\\d', '')\n",
    "\n",
    "#print for visual check that special characters and digits removed\n",
    "print(trainCSV)"
   ]
  },
  {
   "cell_type": "code",
   "execution_count": 67,
   "id": "752a5d70",
   "metadata": {},
   "outputs": [
    {
     "name": "stdout",
     "output_type": "stream",
     "text": [
      "     Index  Sentiment                                               Text\n",
      "0        0          1  switchfoot httptwitpic.comyzl  awww thats a bu...\n",
      "1        1          1  is upset that he cant update his facebook by t...\n",
      "2        2          1  kenichan i dived many times for the ball. mana...\n",
      "3        3          1    my whole body feels itchy and like its on fire \n",
      "4        4          1  nationwideclass no its not behaving at all. im...\n",
      "..     ...        ...                                                ...\n",
      "354    492          1  stupid movies we watched... mirrors ugggggh......\n",
      "355    494          0              httptwitpic.comyyi  i love you buck. \n",
      "356    495          1                       last one but still not done \n",
      "357    496          0                                      homework.... \n",
      "358    497          0  i dont understand why things get taken away. i...\n",
      "\n",
      "[359 rows x 3 columns]\n"
     ]
    }
   ],
   "source": [
    "#print for visual check that special characters and digits removed\n",
    "print(testCSV)"
   ]
  },
  {
   "cell_type": "markdown",
   "id": "f90d961e",
   "metadata": {},
   "source": [
    "# 3: Linguistic Feature Extraction."
   ]
  },
  {
   "cell_type": "code",
   "execution_count": 70,
   "id": "9132cb03",
   "metadata": {
    "scrolled": true
   },
   "outputs": [],
   "source": [
    "#NLP using bag of words, token each word\n"
   ]
  },
  {
   "cell_type": "markdown",
   "id": "bf978033",
   "metadata": {},
   "source": [
    "# 4: Build your sentiment classification model."
   ]
  },
  {
   "cell_type": "markdown",
   "id": "5b9d7116",
   "metadata": {},
   "source": [
    "# 5: Model evaluation."
   ]
  },
  {
   "cell_type": "code",
   "execution_count": null,
   "id": "d464492c",
   "metadata": {},
   "outputs": [],
   "source": []
  },
  {
   "cell_type": "code",
   "execution_count": null,
   "id": "a4bf384e",
   "metadata": {},
   "outputs": [],
   "source": []
  }
 ],
 "metadata": {
  "kernelspec": {
   "display_name": "Python 3 (ipykernel)",
   "language": "python",
   "name": "python3"
  },
  "language_info": {
   "codemirror_mode": {
    "name": "ipython",
    "version": 3
   },
   "file_extension": ".py",
   "mimetype": "text/x-python",
   "name": "python",
   "nbconvert_exporter": "python",
   "pygments_lexer": "ipython3",
   "version": "3.9.16"
  }
 },
 "nbformat": 4,
 "nbformat_minor": 5
}
