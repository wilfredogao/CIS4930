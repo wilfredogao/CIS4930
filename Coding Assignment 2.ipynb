{
 "cells": [
  {
   "cell_type": "code",
   "execution_count": 2,
   "id": "79cc84d0",
   "metadata": {},
   "outputs": [],
   "source": [
    "import pandas as pd\n",
    "from sklearn.feature_extraction.text import CountVectorizer\n",
    "from sklearn.linear_model import LogisticRegression\n",
    "from sklearn.metrics import classification_report"
   ]
  },
  {
   "cell_type": "markdown",
   "id": "770103f3",
   "metadata": {},
   "source": [
    "# 1. Exploratory Data Analysis"
   ]
  },
  {
   "cell_type": "code",
   "execution_count": 3,
   "id": "8eff08ba",
   "metadata": {
    "scrolled": true
   },
   "outputs": [
    {
     "name": "stdout",
     "output_type": "stream",
     "text": [
      "# of rows from trainCSV 50000\n",
      "# of rows from testCSV 359\n"
     ]
    }
   ],
   "source": [
    "#read in csv file data\n",
    "#read train rows from \n",
    "trainCSV = pd.read_csv('train.csv', names = [\"Index\", \"Sentiment\", \"Text\"], skiprows=770000, nrows = 50000)\n",
    "#using a subset of data from the train.csv file, a total of 50,0000 roughly 5% of the data as using the entire dataset led to a \n",
    "#long time for data processing\n",
    "#may lead to model skewing to using a subset of the data, tried to roughly do a 50/50 or 60/40 of negative/positive sentiments\n",
    "#to ensure that the data could have roughly the same amount of data for both sentiments to build the model\n",
    "testCSV = pd.read_csv('test.csv')\n",
    "\n",
    "rows = len(trainCSV)\n",
    "rows2 = len(testCSV)\n",
    "\n",
    "#check proper number of rows from the csv files\n",
    "print(\"# of rows from trainCSV \" + str(rows))\n",
    "print(\"# of rows from testCSV \" + str(rows2))"
   ]
  },
  {
   "cell_type": "code",
   "execution_count": 4,
   "id": "e22f06ee",
   "metadata": {
    "scrolled": true
   },
   "outputs": [
    {
     "name": "stdout",
     "output_type": "stream",
     "text": [
      "# of negatives from trainCSV 30001\n",
      "# of positives from trainCSV 19999\n",
      "# of neither positive or negative from trainCSV 0\n"
     ]
    }
   ],
   "source": [
    "#check associated # of sentiment values from train csv\n",
    "numNeg = ((trainCSV['Sentiment'] == 0).sum())\n",
    "print(\"# of negatives from trainCSV \" + str(numNeg))\n",
    "\n",
    "numPos = ((trainCSV['Sentiment'] == 1).sum())\n",
    "print(\"# of positives from trainCSV \" + str(numPos))\n",
    "\n",
    "#check if there are any improper sentiment values in traincsv\n",
    "numNA = ((trainCSV['Sentiment'] >= 2).sum())\n",
    "print(\"# of neither positive or negative from trainCSV \" + str(numNA))"
   ]
  },
  {
   "cell_type": "code",
   "execution_count": 5,
   "id": "c8080149",
   "metadata": {
    "scrolled": false
   },
   "outputs": [
    {
     "name": "stdout",
     "output_type": "stream",
     "text": [
      "Null values in trainCSV\n",
      "Index        0\n",
      "Sentiment    0\n",
      "Text         0\n",
      "dtype: int64\n",
      "Null values in testCSV\n",
      "Index        0\n",
      "Sentiment    0\n",
      "Text         0\n",
      "dtype: int64\n"
     ]
    }
   ],
   "source": [
    "#check if there are null values in the csv files\n",
    "print(\"Null values in trainCSV\")\n",
    "print(trainCSV.isnull().sum())\n",
    "\n",
    "print(\"Null values in testCSV\")\n",
    "print(testCSV.isnull().sum())"
   ]
  },
  {
   "cell_type": "markdown",
   "id": "bfe83b4b",
   "metadata": {},
   "source": [
    "# 2: Text Preprocessing."
   ]
  },
  {
   "cell_type": "code",
   "execution_count": 6,
   "id": "38fcb735",
   "metadata": {},
   "outputs": [
    {
     "name": "stdout",
     "output_type": "stream",
     "text": [
      "        Index  Sentiment                                               Text\n",
      "0      769999          0  @breelin i need to make it silly lol. i miss you \n",
      "1      770000          0  away upstairs to bed. gonna miss you twitter. ...\n",
      "2      770001          0   movie theater here isnt doing midnight showin...\n",
      "3      770002          0  home and bored. feel like chattin to people on...\n",
      "4      770003          0         @traviswfreeman why are you leaving us??? \n",
      "...       ...        ...                                                ...\n",
      "49995  819994          1                        @primaryposition ok thanks \n",
      "49996  819995          1  we just met some awesome people at t.g.i fridays \n",
      "49997  819996          1  oh my goodness . my feet are the most sensitiv...\n",
      "49998  819997          1                                  @hey_angy hahaha \n",
      "49999  819998          1  @lamartian30 pfft school is koo. i'm ranked 2n...\n",
      "\n",
      "[50000 rows x 3 columns]\n"
     ]
    }
   ],
   "source": [
    "#change all text to lowercase\n",
    "trainCSV['Text'] = trainCSV['Text'].str.lower();\n",
    "testCSV['Text'] = trainCSV['Text'].str.lower();\n",
    "\n",
    "#check to make sure operation worked and changed to lowercase\n",
    "print(trainCSV)"
   ]
  },
  {
   "cell_type": "code",
   "execution_count": 7,
   "id": "3d888aaa",
   "metadata": {},
   "outputs": [
    {
     "name": "stdout",
     "output_type": "stream",
     "text": [
      "     Index  Sentiment                                               Text\n",
      "0        0          1  @breelin i need to make it silly lol. i miss you \n",
      "1        1          1  away upstairs to bed. gonna miss you twitter. ...\n",
      "2        2          1   movie theater here isnt doing midnight showin...\n",
      "3        3          1  home and bored. feel like chattin to people on...\n",
      "4        4          1         @traviswfreeman why are you leaving us??? \n",
      "..     ...        ...                                                ...\n",
      "354    492          1  @reallamarodom i miss the lakers already  don'...\n",
      "355    494          0  @kandydevil  why do they have to be so expensi...\n",
      "356    495          1  @firstpersonarts is slam tonight? i always los...\n",
      "357    496          0  i'm so boreeeeed. . . . . . . . . . . . . . . ...\n",
      "358    497          0  about to starve but i just don't know what i w...\n",
      "\n",
      "[359 rows x 3 columns]\n"
     ]
    }
   ],
   "source": [
    "#check to make sure operation worked and changed to lowercase\n",
    "print(testCSV)"
   ]
  },
  {
   "cell_type": "code",
   "execution_count": 8,
   "id": "656adb7f",
   "metadata": {},
   "outputs": [
    {
     "name": "stdout",
     "output_type": "stream",
     "text": [
      "        Index  Sentiment                                               Text\n",
      "0      769999          0   breelin i need to make it silly lol. i miss you \n",
      "1      770000          0  away upstairs to bed. gonna miss you twitter. ...\n",
      "2      770001          0   movie theater here isnt doing midnight showin...\n",
      "3      770002          0  home and bored. feel like chattin to people on...\n",
      "4      770003          0             traviswfreeman why are you leaving us \n",
      "...       ...        ...                                                ...\n",
      "49995  819994          1                         primaryposition ok thanks \n",
      "49996  819995          1  we just met some awesome people at t.g.i fridays \n",
      "49997  819996          1  oh my goodness . my feet are the most sensitiv...\n",
      "49998  819997          1                                    heyangy hahaha \n",
      "49999  819998          1  lamartian pfft school is koo. im ranked nd in ...\n",
      "\n",
      "[50000 rows x 3 columns]\n"
     ]
    },
    {
     "name": "stderr",
     "output_type": "stream",
     "text": [
      "C:\\Users\\Wil\\AppData\\Local\\Temp\\ipykernel_19900\\973039069.py:2: FutureWarning: The default value of regex will change from True to False in a future version.\n",
      "  trainCSV['Text'] = trainCSV['Text'].str.replace('[^a-zA-Z0-9 \\n\\.]', '')\n",
      "C:\\Users\\Wil\\AppData\\Local\\Temp\\ipykernel_19900\\973039069.py:3: FutureWarning: The default value of regex will change from True to False in a future version.\n",
      "  testCSV['Text'] = testCSV['Text'].str.replace('[^a-zA-Z0-9 \\n\\.]', '')\n",
      "C:\\Users\\Wil\\AppData\\Local\\Temp\\ipykernel_19900\\973039069.py:6: FutureWarning: The default value of regex will change from True to False in a future version.\n",
      "  trainCSV['Text'] = trainCSV['Text'].str.replace('\\d', '')\n",
      "C:\\Users\\Wil\\AppData\\Local\\Temp\\ipykernel_19900\\973039069.py:7: FutureWarning: The default value of regex will change from True to False in a future version.\n",
      "  testCSV['Text'] = testCSV['Text'].str.replace('\\d', '')\n"
     ]
    }
   ],
   "source": [
    "#remove special characters\n",
    "trainCSV['Text'] = trainCSV['Text'].str.replace('[^a-zA-Z0-9 \\n\\.]', '')\n",
    "testCSV['Text'] = testCSV['Text'].str.replace('[^a-zA-Z0-9 \\n\\.]', '')\n",
    "\n",
    "#remove numerical numbers\n",
    "trainCSV['Text'] = trainCSV['Text'].str.replace('\\d', '')\n",
    "testCSV['Text'] = testCSV['Text'].str.replace('\\d', '')\n",
    "\n",
    "#print for visual check that special characters and digits removed\n",
    "print(trainCSV)"
   ]
  },
  {
   "cell_type": "code",
   "execution_count": 9,
   "id": "7aec3022",
   "metadata": {},
   "outputs": [
    {
     "name": "stdout",
     "output_type": "stream",
     "text": [
      "     Index  Sentiment                                               Text\n",
      "0        0          1   breelin i need to make it silly lol. i miss you \n",
      "1        1          1  away upstairs to bed. gonna miss you twitter. ...\n",
      "2        2          1   movie theater here isnt doing midnight showin...\n",
      "3        3          1  home and bored. feel like chattin to people on...\n",
      "4        4          1             traviswfreeman why are you leaving us \n",
      "..     ...        ...                                                ...\n",
      "354    492          1  reallamarodom i miss the lakers already  dont ...\n",
      "355    494          0  kandydevil  why do they have to be so expensiv...\n",
      "356    495          1  firstpersonarts is slam tonight i always lose ...\n",
      "357    496          0  im so boreeeeed. . . . . . . . . . . . . . . ....\n",
      "358    497          0  about to starve but i just dont know what i wa...\n",
      "\n",
      "[359 rows x 3 columns]\n"
     ]
    }
   ],
   "source": [
    "#print for visual check that special characters and digits removed\n",
    "print(testCSV)"
   ]
  },
  {
   "cell_type": "markdown",
   "id": "ecef50a6",
   "metadata": {},
   "source": [
    "# 3: Linguistic Feature Extraction."
   ]
  },
  {
   "cell_type": "code",
   "execution_count": 12,
   "id": "2d8adc33",
   "metadata": {
    "scrolled": true
   },
   "outputs": [],
   "source": [
    "#NLP using bag of words, token each word\n",
    "tokens = CountVectorizer()\n",
    "\n",
    "trainWords = tokens.fit_transform(trainCSV['Text'])\n",
    "testWords = tokens.transform(testCSV['Text'])"
   ]
  },
  {
   "cell_type": "markdown",
   "id": "d7daee86",
   "metadata": {},
   "source": [
    "# 4: Build your sentiment classification model."
   ]
  },
  {
   "cell_type": "code",
   "execution_count": 30,
   "id": "fb4c019c",
   "metadata": {},
   "outputs": [],
   "source": [
    "#building a logistic regression model\n",
    "model = LogisticRegression(max_iter = 50000)\n",
    "trainY = trainCSV['Sentiment'].values\n",
    "testY = testCSV['Sentiment'].values\n",
    "\n",
    "model.fit(trainWords,trainY);\n",
    "\n",
    "test_predicted = model.predict(testWords)\n",
    "test_prebability = model.predict_proba(testWords)"
   ]
  },
  {
   "cell_type": "markdown",
   "id": "bcbe5356",
   "metadata": {},
   "source": [
    "# 5: Model evaluation."
   ]
  },
  {
   "cell_type": "code",
   "execution_count": 31,
   "id": "a7bac729",
   "metadata": {
    "scrolled": false
   },
   "outputs": [
    {
     "name": "stdout",
     "output_type": "stream",
     "text": [
      "              precision    recall  f1-score   support\n",
      "\n",
      "           0       0.94      0.49      0.65       336\n",
      "           1       0.07      0.52      0.12        23\n",
      "\n",
      "    accuracy                           0.50       359\n",
      "   macro avg       0.50      0.51      0.38       359\n",
      "weighted avg       0.88      0.50      0.61       359\n",
      "\n"
     ]
    }
   ],
   "source": [
    "print(classification_report(test_predicted, testY))"
   ]
  },
  {
   "cell_type": "code",
   "execution_count": null,
   "id": "3199932e",
   "metadata": {},
   "outputs": [],
   "source": [
    "#model evaluation has high precision for predicting negative sentiment from \n",
    "#the test csv, but has low precision for predicting positive sentiment from\n",
    "#the test csv\n",
    "#this may be caused using a subset of the train csv leading to data skewing\n",
    "#as I used 30,000 negative sentiments and 20,000 positive sentiments giving\n",
    "#the model more sentiment data to analyze for negative sentiments compared\n",
    "#to positive sentiments\n",
    "#would be interesting to run the entirety of train csv data at a later time\n",
    "#to give it the extra time it needs to process the entire dataset and compare\n",
    "#results"
   ]
  }
 ],
 "metadata": {
  "kernelspec": {
   "display_name": "Python 3 (ipykernel)",
   "language": "python",
   "name": "python3"
  },
  "language_info": {
   "codemirror_mode": {
    "name": "ipython",
    "version": 3
   },
   "file_extension": ".py",
   "mimetype": "text/x-python",
   "name": "python",
   "nbconvert_exporter": "python",
   "pygments_lexer": "ipython3",
   "version": "3.9.16"
  }
 },
 "nbformat": 4,
 "nbformat_minor": 5
}
